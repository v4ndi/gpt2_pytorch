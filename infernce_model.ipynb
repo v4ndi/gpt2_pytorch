{
 "cells": [
  {
   "cell_type": "code",
   "execution_count": 13,
   "id": "76c5b344-9ba2-4d52-879b-2ee6f2a18688",
   "metadata": {
    "execution": {
     "iopub.execute_input": "2024-02-04T21:13:47.880789Z",
     "iopub.status.busy": "2024-02-04T21:13:47.880227Z",
     "iopub.status.idle": "2024-02-04T21:13:47.889647Z",
     "shell.execute_reply": "2024-02-04T21:13:47.889030Z",
     "shell.execute_reply.started": "2024-02-04T21:13:47.880761Z"
    },
    "tags": []
   },
   "outputs": [],
   "source": [
    "import yaml\n",
    "from gpt2 import ruGPT2\n",
    "from transformers import GPT2LMHeadModel, GPT2Tokenizer\n",
    "import torch\n",
    "import torch.nn.functional as F"
   ]
  },
  {
   "cell_type": "code",
   "execution_count": 14,
   "id": "e6564157-8aea-44a7-a31a-7ae2b9976e95",
   "metadata": {
    "execution": {
     "iopub.execute_input": "2024-02-04T21:13:47.891874Z",
     "iopub.status.busy": "2024-02-04T21:13:47.891181Z",
     "iopub.status.idle": "2024-02-04T21:14:23.576932Z",
     "shell.execute_reply": "2024-02-04T21:14:23.576099Z",
     "shell.execute_reply.started": "2024-02-04T21:13:47.891839Z"
    },
    "tags": []
   },
   "outputs": [],
   "source": [
    "model_name = \"gpt2\"\n",
    "tokenizer = GPT2Tokenizer.from_pretrained(model_name)\n",
    "gpt2 = GPT2LMHeadModel.from_pretrained(model_name)"
   ]
  },
  {
   "cell_type": "code",
   "execution_count": 18,
   "id": "7cac6e62-2c86-4127-b3cc-36e03f1afea3",
   "metadata": {
    "execution": {
     "iopub.execute_input": "2024-02-04T21:33:03.806623Z",
     "iopub.status.busy": "2024-02-04T21:33:03.805731Z",
     "iopub.status.idle": "2024-02-04T21:33:04.936622Z",
     "shell.execute_reply": "2024-02-04T21:33:04.935942Z",
     "shell.execute_reply.started": "2024-02-04T21:33:03.806580Z"
    },
    "tags": []
   },
   "outputs": [],
   "source": [
    "class Config:\n",
    "    def __init__(self, file_path):\n",
    "        with open(file_path, 'r') as file:\n",
    "            config_data = yaml.safe_load(file)\n",
    "        self._dict_to_object(config_data, self)\n",
    "\n",
    "    def _dict_to_object(self, d, obj):\n",
    "        for key, value in d.items():\n",
    "            if isinstance(value, dict):\n",
    "                setattr(obj, key, type('ConfigObject', (), {}))\n",
    "                self._dict_to_object(value, getattr(obj, key))\n",
    "            else:\n",
    "                setattr(obj, key, value)\n",
    "\n",
    "config = Config('config.yaml')                \n",
    "rugpt2 = ruGPT2(config)"
   ]
  },
  {
   "cell_type": "code",
   "execution_count": 19,
   "id": "9ea55401-8d46-4cc5-973b-066e46dcb3da",
   "metadata": {
    "execution": {
     "iopub.execute_input": "2024-02-04T21:33:07.128150Z",
     "iopub.status.busy": "2024-02-04T21:33:07.127215Z",
     "iopub.status.idle": "2024-02-04T21:33:07.140941Z",
     "shell.execute_reply": "2024-02-04T21:33:07.140116Z",
     "shell.execute_reply.started": "2024-02-04T21:33:07.128105Z"
    },
    "tags": []
   },
   "outputs": [],
   "source": [
    "state_dict = gpt2.state_dict()\n",
    "\n",
    "renamed_state_dict = {}\n",
    "for key in state_dict.keys():\n",
    "    new_key = key\n",
    "    if 'transformer' in new_key:\n",
    "        new_key = new_key.replace('transformer.', '')\n",
    "    renamed_state_dict[new_key] = state_dict[key]"
   ]
  },
  {
   "cell_type": "code",
   "execution_count": 21,
   "id": "d54d6258-c63d-48e7-b352-cba09a6fb09a",
   "metadata": {
    "execution": {
     "iopub.execute_input": "2024-02-04T21:37:39.823441Z",
     "iopub.status.busy": "2024-02-04T21:37:39.822720Z",
     "iopub.status.idle": "2024-02-04T21:37:39.906436Z",
     "shell.execute_reply": "2024-02-04T21:37:39.905704Z",
     "shell.execute_reply.started": "2024-02-04T21:37:39.823393Z"
    },
    "tags": []
   },
   "outputs": [
    {
     "data": {
      "text/plain": [
       "_IncompatibleKeys(missing_keys=['h.0.attn.bias', 'h.1.attn.bias', 'h.2.attn.bias', 'h.3.attn.bias', 'h.4.attn.bias', 'h.5.attn.bias', 'h.6.attn.bias', 'h.7.attn.bias', 'h.8.attn.bias', 'h.9.attn.bias', 'h.10.attn.bias', 'h.11.attn.bias'], unexpected_keys=[])"
      ]
     },
     "execution_count": 21,
     "metadata": {},
     "output_type": "execute_result"
    }
   ],
   "source": [
    "rugpt2.load_state_dict(renamed_state_dict, strict=False)"
   ]
  },
  {
   "cell_type": "code",
   "execution_count": 38,
   "id": "7c082d26-868d-48d8-918c-056a162cf268",
   "metadata": {
    "execution": {
     "iopub.execute_input": "2024-02-04T21:58:33.515115Z",
     "iopub.status.busy": "2024-02-04T21:58:33.514413Z",
     "iopub.status.idle": "2024-02-04T21:58:34.096699Z",
     "shell.execute_reply": "2024-02-04T21:58:34.096013Z",
     "shell.execute_reply.started": "2024-02-04T21:58:33.515074Z"
    },
    "tags": []
   },
   "outputs": [
    {
     "name": "stdout",
     "output_type": "stream",
     "text": [
      "Once upon a time I met aField who understood an age an who understood how the\n"
     ]
    }
   ],
   "source": [
    "def top_k_logits(logits, top_k=50):\n",
    "    if top_k > 0:\n",
    "        values, _ = torch.topk(logits, top_k)\n",
    "        min_values = values[:, -1]\n",
    "        logits = torch.where(logits < min_values, torch.ones_like(logits) * -float('inf'), logits)\n",
    "    return logits\n",
    "\n",
    "\n",
    "def custom_generate(model, input_ids, max_length=10, temperature=1.0, top_k=50, no_repeat_n_gram_size=2):\n",
    "    model.eval()\n",
    "    with torch.no_grad():\n",
    "        for _ in range(max_length):\n",
    "            logits = model(input_ids)[:, -1, :] / temperature\n",
    "            filtered_logits = top_k_logits(logits, top_k=top_k)\n",
    "            \n",
    "            if no_repeat_n_gram_size > 0:\n",
    "                for _ in range(no_repeat_n_gram_size):\n",
    "                    if input_ids.shape[1] > no_repeat_n_gram_size:\n",
    "                        logits[:, input_ids[:, -no_repeat_n_gram_size:]] = -float('inf')\n",
    "            \n",
    "            probabilities = F.softmax(filtered_logits, dim=-1)\n",
    "            next_token = torch.multinomial(probabilities, 1)\n",
    "            input_ids = torch.cat([input_ids, next_token], dim=-1)\n",
    "\n",
    "    generated_text = tokenizer.decode(input_ids[0], skip_special_tokens=True)\n",
    "\n",
    "    return generated_text\n",
    "\n",
    "prompt = \"Once upon a time I met a\"\n",
    "input_ids = tokenizer.encode(prompt, return_tensors='pt')\n",
    "generated_text = custom_generate(rugpt2, input_ids=input_ids)\n",
    "print(generated_text.replace('\\n', ''))"
   ]
  }
 ],
 "metadata": {
  "kernelspec": {
   "display_name": "DataSphere Kernel",
   "language": "python",
   "name": "python3"
  },
  "language_info": {
   "codemirror_mode": {
    "name": "ipython",
    "version": 3
   },
   "file_extension": ".py",
   "mimetype": "text/x-python",
   "name": "python",
   "nbconvert_exporter": "python",
   "pygments_lexer": "ipython3",
   "version": "3.7.7"
  }
 },
 "nbformat": 4,
 "nbformat_minor": 5
}
